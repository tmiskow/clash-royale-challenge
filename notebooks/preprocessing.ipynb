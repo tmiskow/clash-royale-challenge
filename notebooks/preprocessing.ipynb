{
 "cells": [
  {
   "cell_type": "markdown",
   "metadata": {},
   "source": [
    "# Preprocessing\n",
    "\n",
    "One-hot encode data and save as numpy array for efficient future processing."
   ]
  },
  {
   "cell_type": "code",
   "execution_count": 1,
   "metadata": {},
   "outputs": [],
   "source": [
    "import pandas as pd\n",
    "import numpy as np"
   ]
  },
  {
   "cell_type": "code",
   "execution_count": 2,
   "metadata": {},
   "outputs": [],
   "source": [
    "def unnest(df, col):\n",
    "    unnested = (df.apply(lambda x: pd.Series(x[col]), axis=1)\n",
    "                .stack()\n",
    "                .reset_index(level=1, drop=True))\n",
    "    unnested.name = col\n",
    "    return df.drop(col, axis=1).join(unnested)\n",
    "\n",
    "def to_bag_of_cards(df):\n",
    "    df['ind'] = np.arange(df.shape[0]) + 1\n",
    "    df_orig = df.copy()\n",
    "    df['deck'] = df['deck'].apply(lambda d: d.split(';'))\n",
    "    df = unnest(df, 'deck')\n",
    "    df['value'] = 1\n",
    "    df_bag = df.pivot(index='ind', columns='deck', values='value')\n",
    "    df_bag[df_bag.isna()] = 0\n",
    "    df_bag = df_bag.astype('int')\n",
    "    return pd.concat([df_orig.set_index('ind'), df_bag], axis=1)"
   ]
  },
  {
   "cell_type": "code",
   "execution_count": 4,
   "metadata": {},
   "outputs": [
    {
     "name": "stdout",
     "output_type": "stream",
     "text": [
      "CPU times: user 34.6 s, sys: 530 ms, total: 35.1 s\n",
      "Wall time: 35.1 s\n"
     ]
    }
   ],
   "source": [
    "%%time\n",
    "# train and valid are pre-processed in the same way as in reference implementation of example submission notebook:\n",
    "train = pd.read_csv('../data/trainingData.csv')\n",
    "valid = pd.read_csv('../data/validationData.csv')\n",
    "train = to_bag_of_cards(train)\n",
    "train_X = train.drop(['deck', 'nofGames', 'nOfPlayers', 'winRate'], axis=1)\n",
    "tran_y = train['winRate']\n",
    "valid = to_bag_of_cards(valid)\n",
    "valid_X = valid.drop(['deck', 'nofGames', 'nOfPlayers', 'winRate'], axis=1)\n",
    "valid_y = valid['winRate']"
   ]
  },
  {
   "cell_type": "code",
   "execution_count": 4,
   "metadata": {},
   "outputs": [],
   "source": [
    "np.save(open('../data/train_X.npy', 'wb'), train_X)\n",
    "np.save(open('../data/train_y.npy', 'wb'), tran_y)\n",
    "np.save(open('../data/valid_X.npy', 'wb'), valid_X)\n",
    "np.save(open('../data/valid_y.npy', 'wb'), valid_y)"
   ]
  },
  {
   "cell_type": "code",
   "execution_count": 5,
   "metadata": {},
   "outputs": [],
   "source": [
    "train_nofGames = train['nofGames']\n",
    "np.save(open('../data/train_nofGames.npy', 'wb'), train_nofGames)"
   ]
  },
  {
   "cell_type": "code",
   "execution_count": 119,
   "metadata": {},
   "outputs": [],
   "source": [
    "reduced_valid = valid.sort_values('nofGames',ascending = False).head(4000)\n",
    "reduced_valid_X = reduced_valid.drop(['deck', 'nofGames', 'nOfPlayers', 'winRate'], axis=1)\n",
    "reduced_valid_y = reduced_valid['winRate']"
   ]
  },
  {
   "cell_type": "code",
   "execution_count": 120,
   "metadata": {},
   "outputs": [],
   "source": [
    "np.save(open('../data/reduced_valid_X.npy', 'wb'), reduced_valid_X)\n",
    "np.save(open('../data/reduced_valid_y.npy', 'wb'), reduced_valid_y)"
   ]
  },
  {
   "cell_type": "code",
   "execution_count": 121,
   "metadata": {},
   "outputs": [],
   "source": [
    "most_freq_train = valid.sort_values('nofGames',ascending = False).head(4000)\n",
    "most_freq_train_X = most_freq_train.drop(['deck', 'nofGames', 'nOfPlayers', 'winRate'], axis=1)\n",
    "most_freq_train_y = most_freq_train['winRate']"
   ]
  },
  {
   "cell_type": "code",
   "execution_count": 122,
   "metadata": {},
   "outputs": [],
   "source": [
    "np.save(open('../data/valid_mix_X.npy', 'wb'), np.concatenate([reduced_valid_X, most_freq_train_X]))\n",
    "np.save(open('../data/valid_mix_y.npy', 'wb'), np.concatenate([reduced_valid_y, most_freq_train_y]))"
   ]
  },
  {
   "cell_type": "code",
   "execution_count": null,
   "metadata": {},
   "outputs": [],
   "source": []
  }
 ],
 "metadata": {
  "kernelspec": {
   "display_name": "Python 3",
   "language": "python",
   "name": "python3"
  },
  "language_info": {
   "codemirror_mode": {
    "name": "ipython",
    "version": 3
   },
   "file_extension": ".py",
   "mimetype": "text/x-python",
   "name": "python",
   "nbconvert_exporter": "python",
   "pygments_lexer": "ipython3",
   "version": "3.7.3"
  }
 },
 "nbformat": 4,
 "nbformat_minor": 2
}
