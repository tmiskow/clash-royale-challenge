{
 "cells": [
  {
   "cell_type": "markdown",
   "metadata": {},
   "source": [
    "# Visualization functions"
   ]
  },
  {
   "cell_type": "code",
   "execution_count": null,
   "metadata": {},
   "outputs": [],
   "source": [
    "from src.genetic import *\n",
    "import pickle\n",
    "import matplotlib.pyplot as plt\n",
    "import numpy as np"
   ]
  },
  {
   "cell_type": "markdown",
   "metadata": {},
   "source": [
    "## Load data"
   ]
  },
  {
   "cell_type": "code",
   "execution_count": null,
   "metadata": {},
   "outputs": [],
   "source": [
    "def load_data(path: str):\n",
    "    with open(path, \"rb\") as f:\n",
    "        data = pickle.load(f)\n",
    "    # check if datasets didnt have repetitions \n",
    "    sample_reps = np.zeros_like(data[0].train_probs)\n",
    "    counter = 0\n",
    "    bad = np.zeros(len(data))\n",
    "    for i, gen in enumerate(data):\n",
    "        for dataset in gen.model_samples:\n",
    "            sample_reps = np.zeros_like(data[0].train_probs)\n",
    "            sample_reps[dataset.astype(int)] = 1\n",
    "            if sample_reps.sum() != 1500:\n",
    "                bad[i] += 1\n",
    "    if bad.sum() > 0:\n",
    "        print(\"There are repetitions in datasets!\")\n",
    "        print(\"Number of bad datasets per generation:\", bad)\n",
    "    else:\n",
    "        print(\"There aren't any repetitions.\")\n",
    "    return data"
   ]
  },
  {
   "cell_type": "markdown",
   "metadata": {},
   "source": [
    "## Visualize probabilities"
   ]
  },
  {
   "cell_type": "code",
   "execution_count": null,
   "metadata": {},
   "outputs": [],
   "source": [
    "def get_min_max(data):\n",
    "    all_train_probs = np.asarray([gen.train_probs for gen in data])\n",
    "    non_zero_train_probs = all_train_probs[all_train_probs > 0]\n",
    "    return (non_zero_train_probs.min(), non_zero_train_probs.max())\n",
    "\n",
    "def show_sample_prob_hist(data, epoch, ):\n",
    "    plt.figure(figsize=(12,8))\n",
    "    hist_range = get_min_max(data)\n",
    "    n, bin_edges, patches = plt.hist(\n",
    "        data[epoch].train_probs[data[epoch].train_probs > 0],\n",
    "        bins=100,\n",
    "        log=True,\n",
    "        range=hist_range\n",
    "    )\n",
    "    print(\"Non zero probabilites\",len(data[epoch].train_probs[data[epoch].train_probs > 0]))\n",
    "    print(\"(Max, Min) =\", hist_range)\n",
    "    plt.xlabel(\"Probability\")\n",
    "    plt.ylabel(\"Bin size\")\n",
    "    plt.show()\n",
    "    return n\n",
    "\n",
    "def show_variance_of_sample_prob_hists(data, bins=100):\n",
    "    '''W celu większej jasności wizualizowanych danych przesunąłem\n",
    "    średnią wszystkich rozkładów do 1, poprzez podzielenie\n",
    "    całego zbioru przez średnią. \n",
    "    '''\n",
    "    plt.figure(figsize=(12,8))\n",
    "    hists = np.zeros((len(data), bins))\n",
    "    # calculate min and max of whole dataset\n",
    "    hist_range = get_min_max(data)\n",
    "    bar_width = (hist_range[1] - hist_range[0]) * 0.8 / bins\n",
    "\n",
    "    for i, gen in enumerate(data):\n",
    "        hists[i], bin_edges = np.histogram(gen.train_probs[gen.train_probs > 0], bins=bins, range=hist_range)\n",
    "    _ = plt.bar(bin_edges[:-1], (hists / hists.mean(axis=0)).var(axis=0), align = 'edge', width=bar_width)\n",
    "    plt.ylabel(\"Variance\")\n",
    "    plt.xlabel(\"Probability bins\")\n",
    "    plt.show()\n",
    "    \n",
    "def show_mean_prob_hist(data, bins=100):\n",
    "    plt.figure(figsize=(12,8))\n",
    "    hists = np.zeros((len(data), bins))\n",
    "    # calculate min and max of whole dataset\n",
    "    hist_range = get_min_max(data)\n",
    "    bar_width = (hist_range[1] - hist_range[0]) * 0.8 / bins\n",
    "\n",
    "    for i, gen in enumerate(data):\n",
    "        hists[i], bin_edges = np.histogram(gen.train_probs[gen.train_probs > 0], bins=bins, range=hist_range)\n",
    "    _ = plt.bar(bin_edges[:-1], hists.mean(axis=0), align = 'edge', width=bar_width)\n",
    "    plt.ylabel(\"Mean height of bin\")\n",
    "    plt.xlabel(\"Probability bins\")\n",
    "    plt.show()    \n",
    "    \n",
    "def analyse_non_zero_probs(data):\n",
    "    non_zero_probs = [(gen.train_probs > 0).sum() for gen in data]\n",
    "    print(\"Mean number of non zero probabilities:\", np.asarray(non_zero_probs).mean())\n",
    "    \n",
    "    plt.figure(figsize=(12,8))\n",
    "    plt.plot(range(len(data)), non_zero_probs)\n",
    "    plt.xlabel(\"Generations\")\n",
    "    plt.ylabel(\"Number of non zero probabilities\")\n",
    "    plt.show()\n",
    "    \n",
    "def show_prob_hist_history(data, bins=100):\n",
    "    plt.figure(figsize=(16,6))\n",
    "    hists = np.zeros((len(data), bins))\n",
    "    # calculate min and max of whole dataset\n",
    "    hist_range = get_min_max(data)\n",
    "    bar_width = (hist_range[1] - hist_range[0]) * 0.8 / bins\n",
    "\n",
    "    for i, gen in enumerate(data):\n",
    "        hists[i], bin_edges = np.histogram(gen.train_probs[gen.train_probs > 0], bins=bins, range=hist_range)\n",
    "    plt.imshow(hists.transpose())\n",
    "    plt.colorbar()\n",
    "    plt.ylabel(\"Saturation of bin\")\n",
    "    plt.xlabel(\"Generations\")\n",
    "    plt.show()"
   ]
  },
  {
   "cell_type": "markdown",
   "metadata": {},
   "source": [
    "## Visualize scores"
   ]
  },
  {
   "cell_type": "code",
   "execution_count": null,
   "metadata": {},
   "outputs": [],
   "source": [
    "def show_scores(data):\n",
    "    plt.figure(figsize=(12,8))\n",
    "    maximum = [gen.model_scores.max() for gen in data]\n",
    "    mean = [gen.model_scores.mean() for gen in data]\n",
    "\n",
    "    plt.plot(range(len(data)), maximum, mean)\n",
    "    plt.xlabel(\"Generation\")\n",
    "    plt.ylabel(\"R2 score on validation\")\n",
    "    plt.legend([\"Best score\", \"Mean score\"])\n",
    "    plt.show()"
   ]
  },
  {
   "cell_type": "markdown",
   "metadata": {},
   "source": [
    "## Visualize frequency of samples in datasets"
   ]
  },
  {
   "cell_type": "code",
   "execution_count": null,
   "metadata": {},
   "outputs": [],
   "source": [
    "def get_sample_freq(data):\n",
    "    '''Calculate frequency of each sample'''\n",
    "    sample_freq = np.zeros_like(data[0].train_probs)\n",
    "    for gen in data:\n",
    "        for dataset in gen.model_samples:\n",
    "            sample_freq[dataset.astype(int)] += 1\n",
    "    return sample_freq\n",
    "\n",
    "def show_sample_freq_hist(data):\n",
    "    sample_freq = get_sample_freq(data)\n",
    "    plt.figure(figsize=(12,8))\n",
    "    plt.hist(sample_freq, bins = 1000, log=True)\n",
    "    plt.ylabel(\"Bin size\")\n",
    "    plt.xlabel(\"Number of occurences\")\n",
    "    plt.show()"
   ]
  },
  {
   "cell_type": "code",
   "execution_count": null,
   "metadata": {},
   "outputs": [],
   "source": [
    "def get_n_most_common(data, n=1500):\n",
    "    sample_freq = get_sample_freq(data)\n",
    "    most_common_indices = np.argsort(sample_freq)[-n:]\n",
    "    return most_common_indices\n",
    "\n",
    "def show_n_most_common_history(data, n=1500):\n",
    "    most_common_indices = get_n_most_common(data, n=n)\n",
    "    \n",
    "    masks = np.zeros((len(data), len(data[0].train_probs)))\n",
    "    for i, gen in enumerate(data):\n",
    "        for dataset in gen.model_samples:\n",
    "            masks[i][dataset.astype(int)] += 1\n",
    "    \n",
    "    most_common_masks = masks[:, np.flip(most_common_indices)]\n",
    "    plt.figure(figsize=(12,n//25))\n",
    "    plt.imshow(most_common_masks.transpose(), cmap='gray')\n",
    "    plt.xlabel(\"Generations\")\n",
    "    plt.ylabel(\"Samples sorted from most common to less\")\n",
    "    plt.colorbar()\n",
    "    plt.show()"
   ]
  },
  {
   "cell_type": "markdown",
   "metadata": {},
   "source": [
    "# Results visualization"
   ]
  },
  {
   "cell_type": "code",
   "execution_count": null,
   "metadata": {},
   "outputs": [],
   "source": [
    "var = load_data('data/genetic-05-06-19-21-36-16.pkl')\n",
    "loss = load_data('data/genetic-05-06-19-21-28-55.pkl')"
   ]
  },
  {
   "cell_type": "code",
   "execution_count": null,
   "metadata": {},
   "outputs": [],
   "source": [
    "analyse_non_zero_probs(var)"
   ]
  },
  {
   "cell_type": "code",
   "execution_count": null,
   "metadata": {},
   "outputs": [],
   "source": [
    "analyse_non_zero_probs(loss)"
   ]
  },
  {
   "cell_type": "code",
   "execution_count": null,
   "metadata": {},
   "outputs": [],
   "source": [
    "for e in [128]:\n",
    "    print('loss')\n",
    "    show_sample_prob_hist(loss, epoch=e)\n",
    "    print('var')\n",
    "    show_sample_prob_hist(var, epoch=e)"
   ]
  },
  {
   "cell_type": "code",
   "execution_count": null,
   "metadata": {},
   "outputs": [],
   "source": [
    "# This plot shows the variance of histograms of samples probabilities in generations\n",
    "show_variance_of_sample_prob_hists(loss)\n",
    "show_mean_prob_hist(loss)"
   ]
  },
  {
   "cell_type": "code",
   "execution_count": null,
   "metadata": {},
   "outputs": [],
   "source": [
    "# This plot shows the variance of histograms of samples probabilities in generations\n",
    "show_variance_of_sample_prob_hists(var)\n",
    "show_mean_prob_hist(var)"
   ]
  },
  {
   "cell_type": "markdown",
   "metadata": {},
   "source": [
    "## Scores"
   ]
  },
  {
   "cell_type": "code",
   "execution_count": null,
   "metadata": {},
   "outputs": [],
   "source": [
    "show_scores(loss)\n",
    "show_prob_hist_history(loss)"
   ]
  },
  {
   "cell_type": "code",
   "execution_count": null,
   "metadata": {},
   "outputs": [],
   "source": [
    "show_scores(var)\n",
    "show_prob_hist_history(var)"
   ]
  },
  {
   "cell_type": "markdown",
   "metadata": {},
   "source": [
    "## Sample frequency"
   ]
  },
  {
   "cell_type": "code",
   "execution_count": null,
   "metadata": {},
   "outputs": [],
   "source": [
    "show_sample_freq_hist(loss)\n",
    "show_n_most_common_history(loss, n=500)"
   ]
  },
  {
   "cell_type": "code",
   "execution_count": null,
   "metadata": {},
   "outputs": [],
   "source": [
    "show_sample_freq_hist(var)\n",
    "show_n_most_common_history(var, n=500)"
   ]
  },
  {
   "cell_type": "code",
   "execution_count": null,
   "metadata": {},
   "outputs": [],
   "source": []
  },
  {
   "cell_type": "code",
   "execution_count": null,
   "metadata": {},
   "outputs": [],
   "source": []
  }
 ],
 "metadata": {
  "kernelspec": {
   "display_name": "Python 3",
   "language": "python",
   "name": "python3"
  },
  "language_info": {
   "codemirror_mode": {
    "name": "ipython",
    "version": 3
   },
   "file_extension": ".py",
   "mimetype": "text/x-python",
   "name": "python",
   "nbconvert_exporter": "python",
   "pygments_lexer": "ipython3",
   "version": "3.7.3"
  }
 },
 "nbformat": 4,
 "nbformat_minor": 2
}
