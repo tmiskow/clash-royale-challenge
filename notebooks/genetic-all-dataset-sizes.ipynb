{
 "cells": [
  {
   "cell_type": "code",
   "execution_count": 1,
   "metadata": {},
   "outputs": [],
   "source": [
    "import sys\n",
    "sys.path.append('..')"
   ]
  },
  {
   "cell_type": "code",
   "execution_count": 2,
   "metadata": {},
   "outputs": [],
   "source": [
    "import numpy as np\n",
    "np.random.seed(420)"
   ]
  },
  {
   "cell_type": "code",
   "execution_count": 3,
   "metadata": {},
   "outputs": [],
   "source": [
    "import pickle\n",
    "import multiprocessing as mp"
   ]
  },
  {
   "cell_type": "code",
   "execution_count": 4,
   "metadata": {},
   "outputs": [],
   "source": [
    "from tqdm import trange\n",
    "from pathlib import Path\n",
    "from datetime import datetime\n",
    "from typing import NamedTuple, List"
   ]
  },
  {
   "cell_type": "code",
   "execution_count": 5,
   "metadata": {},
   "outputs": [],
   "source": [
    "from src.genetic import GenerationResult, DataSet, EvolutionParams, run_evolution"
   ]
  },
  {
   "cell_type": "code",
   "execution_count": 6,
   "metadata": {},
   "outputs": [],
   "source": [
    "def shrink_samples(samples: np.array, size: int) -> np.array:\n",
    "    return np.array([\n",
    "        np.random.choice(sample, size, replace=False).astype('int64')\n",
    "        for sample in samples\n",
    "    ])"
   ]
  },
  {
   "cell_type": "code",
   "execution_count": 7,
   "metadata": {},
   "outputs": [],
   "source": [
    "def prepare_submission(results, path):\n",
    "    with open(path, 'w') as file:\n",
    "        for dataset_size in sorted(results.keys()):\n",
    "            dataset_results = results[dataset_size]\n",
    "            model_scores = np.concatenate([result.model_scores for result in dataset_results])\n",
    "            model_samples = np.concatenate([result.model_samples.astype('int64') for result in dataset_results])\n",
    "            model_params = np.concatenate([result.model_params for result in dataset_results])\n",
    "            best_model_id = np.argmax(model_scores)\n",
    "            best_model_params = model_params[best_model_id]\n",
    "            epsilon, C, gamma = [best_model_params.get(key) for key in ['epsilon', 'C', 'gamma']]\n",
    "            best_model_sample = model_samples[best_model_id]\n",
    "            best_model_sample_string = \",\".join([str(idx) for idx in best_model_sample])\n",
    "            file.write(f\"{epsilon};{C};{gamma};{best_model_sample_string}\\n\")"
   ]
  },
  {
   "cell_type": "code",
   "execution_count": 8,
   "metadata": {},
   "outputs": [],
   "source": [
    "n_threads = 6\n",
    "input_dir = '../data'\n",
    "input_file = '../data/genetic-05-06-19-21-36-16.pkl'\n",
    "output_path = datetime.now().strftime('../data/genetic-all-datasets-%d-%m-%y-%H-%M-%S.pkl')\n",
    "submission_path = datetime.now().strftime('../data/sumbission-%d-%m-%y-%H-%M-%S.txt')"
   ]
  },
  {
   "cell_type": "code",
   "execution_count": 9,
   "metadata": {},
   "outputs": [
    {
     "name": "stderr",
     "output_type": "stream",
     "text": [
      "Dataset 1400:   0%|          | 0/9 [00:00<?, ?it/s]\n",
      "  0%|          | 0/1 [00:00<?, ?it/s]\u001b[A\n",
      "Generation 1:   0%|          | 0/1 [00:00<?, ?it/s]\u001b[A\n",
      "Generation 1:   0%|          | 0/1 [02:57<?, ?it/s, max_score=0.0699, mean_score=0.0347]\u001b[A\n",
      "Dataset 1300:  11%|█         | 1/9 [02:57<23:40, 177.56s/it]\n",
      "  0%|          | 0/1 [00:00<?, ?it/s]\u001b[A\n",
      "Generation 1:   0%|          | 0/1 [00:00<?, ?it/s]\u001b[A\n",
      "Generation 1:   0%|          | 0/1 [02:38<?, ?it/s, max_score=0.064, mean_score=0.0317]\u001b[A\n",
      "Dataset 1200:  22%|██▏       | 2/9 [05:35<20:02, 171.79s/it]\n",
      "  0%|          | 0/1 [00:00<?, ?it/s]\u001b[A\n",
      "Generation 1:   0%|          | 0/1 [00:00<?, ?it/s]\u001b[A\n",
      "Generation 1:   0%|          | 0/1 [02:25<?, ?it/s, max_score=0.0594, mean_score=0.0269]\u001b[A\n",
      "Dataset 1100:  33%|███▎      | 3/9 [08:01<16:23, 163.99s/it]\n",
      "  0%|          | 0/1 [00:00<?, ?it/s]\u001b[A\n",
      "Generation 1:   0%|          | 0/1 [00:00<?, ?it/s]\u001b[A\n",
      "Generation 1:   0%|          | 0/1 [02:13<?, ?it/s, max_score=0.0512, mean_score=0.0244]\u001b[A\n",
      "Dataset 1000:  44%|████▍     | 4/9 [10:15<12:54, 154.99s/it]\n",
      "  0%|          | 0/1 [00:00<?, ?it/s]\u001b[A\n",
      "Generation 1:   0%|          | 0/1 [00:00<?, ?it/s]\u001b[A\n",
      "Generation 1:   0%|          | 0/1 [02:00<?, ?it/s, max_score=0.0601, mean_score=0.017]\u001b[A\n",
      "Dataset 900:  56%|█████▌    | 5/9 [12:15<09:37, 144.50s/it] \n",
      "  0%|          | 0/1 [00:00<?, ?it/s]\u001b[A\n",
      "Generation 1:   0%|          | 0/1 [00:00<?, ?it/s]\u001b[A\n",
      "Generation 1:   0%|          | 0/1 [01:48<?, ?it/s, max_score=0.0453, mean_score=0.00574]\u001b[A\n",
      "Dataset 800:  67%|██████▋   | 6/9 [14:03<06:40, 133.56s/it]\n",
      "  0%|          | 0/1 [00:00<?, ?it/s]\u001b[A\n",
      "Generation 1:   0%|          | 0/1 [00:00<?, ?it/s]\u001b[A\n",
      "Generation 1:   0%|          | 0/1 [01:37<?, ?it/s, max_score=0.0482, mean_score=0.000896]\u001b[A\n",
      "Dataset 700:  78%|███████▊  | 7/9 [15:41<04:05, 122.72s/it]\n",
      "  0%|          | 0/1 [00:00<?, ?it/s]\u001b[A\n",
      "Generation 1:   0%|          | 0/1 [00:00<?, ?it/s]\u001b[A\n",
      "Generation 1:   0%|          | 0/1 [01:22<?, ?it/s, max_score=0.052, mean_score=-.0131]\u001b[A\n",
      "Dataset 600:  89%|████████▉ | 8/9 [17:03<01:50, 110.57s/it]\n",
      "  0%|          | 0/1 [00:00<?, ?it/s]\u001b[A\n",
      "Generation 1:   0%|          | 0/1 [00:00<?, ?it/s]\u001b[A\n",
      "Generation 1:   0%|          | 0/1 [01:11<?, ?it/s, max_score=0.0446, mean_score=-.0257]\u001b[A\n",
      "Dataset 600: 100%|██████████| 9/9 [18:14<00:00, 98.86s/it] \n"
     ]
    },
    {
     "name": "stdout",
     "output_type": "stream",
     "text": [
      "Saving results to /home/tmiskow/Source/mim/sus/zad3/data/genetic-all-datasets-07-06-19-17-46-41.pkl...\n",
      "Done\n"
     ]
    }
   ],
   "source": [
    "input_dir = Path(input_dir).resolve()\n",
    "output_path = Path(output_path).resolve()\n",
    "train_X = np.load(input_dir / 'train_X.npy')\n",
    "train_y = np.load(input_dir / 'train_y.npy')\n",
    "valid_X = np.load(input_dir / 'valid_X.npy')\n",
    "valid_y = np.load(input_dir / 'valid_y.npy')\n",
    "train_data = DataSet(train_X, train_y, np.arange(len(train_X)))\n",
    "valid_data = DataSet(valid_X, valid_y, np.arange(len(valid_X)) * (-1))\n",
    "params = EvolutionParams(\n",
    "    n_models = 32,\n",
    "    n_fits = 32,\n",
    "    n_generations = 1,\n",
    "    n_train_samples = 1500,\n",
    "    n_valid_samples = 6000,\n",
    "    train_ids = None,\n",
    "    mutation_prob = 0.04,\n",
    "    score_mode = \"variance\",\n",
    ")\n",
    "\n",
    "results = {}\n",
    "with open(input_file, 'rb') as file:\n",
    "    results[1500] = pickle.load(file)\n",
    "    final_model_samples = results[1500][-1].model_samples\n",
    "    \n",
    "with mp.Pool(n_threads) as pool:\n",
    "    with trange(1400, 500, -100) as t:\n",
    "        for dataset_size in t:\n",
    "            t.set_description(f\"Dataset {dataset_size}\")\n",
    "            start_model_samples = shrink_samples(final_model_samples, dataset_size)\n",
    "            assert start_model_samples.shape == (final_model_samples.shape[0], dataset_size)\n",
    "            params = params._replace(n_train_samples=dataset_size, train_ids=start_model_samples)\n",
    "            results[dataset_size] = run_evolution(train_data, valid_data, pool, params)\n",
    "            final_model_samples = results[dataset_size][-1].model_samples\n",
    "    print(f\"Saving results to {output_path}...\")\n",
    "    pickle.dump(results, open(output_path, 'wb'))\n",
    "    print(f\"Saving sumbission to {submission_path}...\")\n",
    "    prepare_submission(results, submission_path)\n",
    "    print(\"Done\")"
   ]
  },
  {
   "cell_type": "code",
   "execution_count": null,
   "metadata": {},
   "outputs": [],
   "source": []
  },
  {
   "cell_type": "code",
   "execution_count": null,
   "metadata": {},
   "outputs": [],
   "source": []
  }
 ],
 "metadata": {
  "kernelspec": {
   "display_name": "Python 3",
   "language": "python",
   "name": "python3"
  },
  "language_info": {
   "codemirror_mode": {
    "name": "ipython",
    "version": 3
   },
   "file_extension": ".py",
   "mimetype": "text/x-python",
   "name": "python",
   "nbconvert_exporter": "python",
   "pygments_lexer": "ipython3",
   "version": "3.7.3"
  }
 },
 "nbformat": 4,
 "nbformat_minor": 2
}
