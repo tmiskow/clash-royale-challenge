{
 "cells": [
  {
   "cell_type": "markdown",
   "metadata": {},
   "source": [
    "# Preprocessing\n",
    "\n",
    "One-hot encode data and save as numpy array for efficient future processing."
   ]
  },
  {
   "cell_type": "code",
   "execution_count": 1,
   "metadata": {},
   "outputs": [],
   "source": [
    "import pandas as pd\n",
    "import numpy as np"
   ]
  },
  {
   "cell_type": "code",
   "execution_count": 2,
   "metadata": {},
   "outputs": [],
   "source": [
    "def unnest(df, col):\n",
    "    unnested = (df.apply(lambda x: pd.Series(x[col]), axis=1)\n",
    "                .stack()\n",
    "                .reset_index(level=1, drop=True))\n",
    "    unnested.name = col\n",
    "    return df.drop(col, axis=1).join(unnested)\n",
    "\n",
    "def to_bag_of_cards(df):\n",
    "    df['ind'] = np.arange(df.shape[0]) + 1\n",
    "    df_orig = df.copy()\n",
    "    df['deck'] = df['deck'].apply(lambda d: d.split(';'))\n",
    "    df = unnest(df, 'deck')\n",
    "    df['value'] = 1\n",
    "    df_bag = df.pivot(index='ind', columns='deck', values='value')\n",
    "    df_bag[df_bag.isna()] = 0\n",
    "    df_bag = df_bag.astype('int')\n",
    "    return pd.concat([df_orig.set_index('ind'), df_bag], axis=1)"
   ]
  },
  {
   "cell_type": "code",
   "execution_count": 3,
   "metadata": {},
   "outputs": [
    {
     "name": "stdout",
     "output_type": "stream",
     "text": [
      "Wall time: 54.4 s\n"
     ]
    }
   ],
   "source": [
    "%%time\n",
    "# train and valid are pre-processed in the same way as in reference implementation of example submission notebook:\n",
    "train = pd.read_csv('./data/trainingData.csv')\n",
    "valid = pd.read_csv('./data/validationData.csv')\n",
    "train = to_bag_of_cards(train)\n",
    "train_X = train.drop(['deck', 'nofGames', 'nOfPlayers', 'winRate'], axis=1)\n",
    "tran_y = train['winRate']\n",
    "valid = to_bag_of_cards(valid)\n",
    "valid_X = valid.drop(['deck', 'nofGames', 'nOfPlayers', 'winRate'], axis=1)\n",
    "valid_y = valid['winRate']"
   ]
  },
  {
   "cell_type": "code",
   "execution_count": 4,
   "metadata": {},
   "outputs": [],
   "source": [
    "np.save(open('./data/train_X.npy', 'wb'), train_X)\n",
    "np.save(open('./data/train_y.npy', 'wb'), tran_y)\n",
    "np.save(open('./data/valid_X.npy', 'wb'), valid_X)\n",
    "np.save(open('./data/valid_y.npy', 'wb'), valid_y)"
   ]
  }
 ],
 "metadata": {
  "kernelspec": {
   "display_name": "Python 3",
   "language": "python",
   "name": "python3"
  },
  "language_info": {
   "codemirror_mode": {
    "name": "ipython",
    "version": 3
   },
   "file_extension": ".py",
   "mimetype": "text/x-python",
   "name": "python",
   "nbconvert_exporter": "python",
   "pygments_lexer": "ipython3",
   "version": "3.7.3"
  }
 },
 "nbformat": 4,
 "nbformat_minor": 2
}
