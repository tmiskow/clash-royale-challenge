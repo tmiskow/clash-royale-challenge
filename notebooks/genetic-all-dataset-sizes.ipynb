{
 "cells": [
  {
   "cell_type": "code",
   "execution_count": 1,
   "metadata": {},
   "outputs": [],
   "source": [
    "import sys\n",
    "sys.path.append('..')"
   ]
  },
  {
   "cell_type": "code",
   "execution_count": 2,
   "metadata": {},
   "outputs": [],
   "source": [
    "import numpy as np\n",
    "np.random.seed(420)"
   ]
  },
  {
   "cell_type": "code",
   "execution_count": 3,
   "metadata": {},
   "outputs": [],
   "source": [
    "import pickle\n",
    "import multiprocessing as mp"
   ]
  },
  {
   "cell_type": "code",
   "execution_count": 4,
   "metadata": {},
   "outputs": [],
   "source": [
    "from tqdm import trange\n",
    "from pathlib import Path\n",
    "from datetime import datetime\n",
    "from typing import NamedTuple, List"
   ]
  },
  {
   "cell_type": "code",
   "execution_count": 5,
   "metadata": {},
   "outputs": [],
   "source": [
    "from src.genetic import GenerationResult, DataSet, EvolutionParams, run_evolution"
   ]
  },
  {
   "cell_type": "code",
   "execution_count": 6,
   "metadata": {},
   "outputs": [],
   "source": [
    "def shrink_samples(samples: np.array, size: int) -> np.array:\n",
    "    return np.array([\n",
    "        np.random.choice(sample, size, replace=False).astype('int64')\n",
    "        for sample in samples\n",
    "    ])"
   ]
  },
  {
   "cell_type": "code",
   "execution_count": 7,
   "metadata": {},
   "outputs": [],
   "source": [
    "n_threads = 4\n",
    "input_dir = '../data'\n",
    "input_file = '../data/genetic-05-06-19-21-36-16.pkl'\n",
    "output_path = datetime.now().strftime('../data/genetic-all-datasets-%d-%m-%y-%H-%M-%S.pkl')"
   ]
  },
  {
   "cell_type": "code",
   "execution_count": 8,
   "metadata": {},
   "outputs": [
    {
     "name": "stderr",
     "output_type": "stream",
     "text": [
      "Dataset 1400:   0%|          | 0/9 [00:00<?, ?it/s]\n",
      "  0%|          | 0/1 [00:00<?, ?it/s]\u001b[A\n",
      "Generation 1:   0%|          | 0/1 [00:00<?, ?it/s]\u001b[A\n",
      "Generation 1:   0%|          | 0/1 [03:52<?, ?it/s, max_score=0.0699, mean_score=0.0346]\u001b[A\n",
      "Dataset 1300:  11%|█         | 1/9 [03:52<30:57, 232.18s/it]\n",
      "  0%|          | 0/1 [00:00<?, ?it/s]\u001b[A\n",
      "Generation 1:   0%|          | 0/1 [00:00<?, ?it/s]\u001b[A\n",
      "Generation 1:   0%|          | 0/1 [03:41<?, ?it/s, max_score=0.064, mean_score=0.0317]\u001b[A\n",
      "Dataset 1200:  22%|██▏       | 2/9 [07:33<26:41, 228.85s/it]\n",
      "  0%|          | 0/1 [00:00<?, ?it/s]\u001b[A\n",
      "Generation 1:   0%|          | 0/1 [00:00<?, ?it/s]\u001b[A\n",
      "Generation 1:   0%|          | 0/1 [03:23<?, ?it/s, max_score=0.0594, mean_score=0.0268]\u001b[A\n",
      "Dataset 1100:  33%|███▎      | 3/9 [10:56<22:07, 221.18s/it]\n",
      "  0%|          | 0/1 [00:00<?, ?it/s]\u001b[A\n",
      "Generation 1:   0%|          | 0/1 [00:00<?, ?it/s]\u001b[A\n",
      "Generation 1:   0%|          | 0/1 [03:01<?, ?it/s, max_score=0.0512, mean_score=0.0244]\u001b[A\n",
      "Dataset 1000:  44%|████▍     | 4/9 [13:57<17:26, 209.26s/it]\n",
      "  0%|          | 0/1 [00:00<?, ?it/s]\u001b[A\n",
      "Generation 1:   0%|          | 0/1 [00:00<?, ?it/s]\u001b[A\n",
      "Generation 1:   0%|          | 0/1 [02:50<?, ?it/s, max_score=0.0601, mean_score=0.017]\u001b[A\n",
      "Dataset 900:  56%|█████▌    | 5/9 [16:48<13:10, 197.71s/it] \n",
      "  0%|          | 0/1 [00:00<?, ?it/s]\u001b[A\n",
      "Generation 1:   0%|          | 0/1 [00:00<?, ?it/s]\u001b[A\n",
      "Generation 1:   0%|          | 0/1 [02:29<?, ?it/s, max_score=0.0453, mean_score=0.00589]\u001b[A\n",
      "Dataset 800:  67%|██████▋   | 6/9 [19:18<09:10, 183.37s/it]\n",
      "  0%|          | 0/1 [00:00<?, ?it/s]\u001b[A\n",
      "Generation 1:   0%|          | 0/1 [00:00<?, ?it/s]\u001b[A\n",
      "Generation 1:   0%|          | 0/1 [02:12<?, ?it/s, max_score=0.0482, mean_score=0.000553]\u001b[A\n",
      "Dataset 700:  78%|███████▊  | 7/9 [21:31<05:36, 168.13s/it]\n",
      "  0%|          | 0/1 [00:00<?, ?it/s]\u001b[A\n",
      "Generation 1:   0%|          | 0/1 [00:00<?, ?it/s]\u001b[A\n",
      "Generation 1:   0%|          | 0/1 [01:52<?, ?it/s, max_score=0.052, mean_score=-.0134]\u001b[A\n",
      "Dataset 600:  89%|████████▉ | 8/9 [23:23<02:31, 151.52s/it]\n",
      "  0%|          | 0/1 [00:00<?, ?it/s]\u001b[A\n",
      "Generation 1:   0%|          | 0/1 [00:00<?, ?it/s]\u001b[A\n",
      "Generation 1:   0%|          | 0/1 [01:40<?, ?it/s, max_score=0.0446, mean_score=-.0257]\u001b[A\n",
      "Dataset 600: 100%|██████████| 9/9 [25:04<00:00, 136.11s/it]\n"
     ]
    },
    {
     "name": "stdout",
     "output_type": "stream",
     "text": [
      "Saving results to /home/tmiskow/Source/mim/sus/zad3/data/genetic-all-datasets-07-06-19-12-13-00.pkl...\n",
      "Done\n"
     ]
    }
   ],
   "source": [
    "input_dir = Path(input_dir).resolve()\n",
    "output_path = Path(output_path).resolve()\n",
    "train_X = np.load(input_dir / 'train_X.npy')\n",
    "train_y = np.load(input_dir / 'train_y.npy')\n",
    "valid_X = np.load(input_dir / 'valid_X.npy')\n",
    "valid_y = np.load(input_dir / 'valid_y.npy')\n",
    "train_data = DataSet(train_X, train_y, np.arange(len(train_X)))\n",
    "valid_data = DataSet(valid_X, valid_y, np.arange(len(valid_X)) * (-1))\n",
    "params = EvolutionParams(\n",
    "    n_models = 32,\n",
    "    n_fits = 32,\n",
    "    n_generations = 1,\n",
    "    n_train_samples = 1500,\n",
    "    n_valid_samples = 6000,\n",
    "    train_ids = None,\n",
    "    mutation_prob = 0.04,\n",
    "    score_mode = \"variance\",\n",
    ")\n",
    "\n",
    "results = {}\n",
    "with open(input_file, 'rb') as file:\n",
    "    results[1500] = pickle.load(file)\n",
    "    final_model_samples = results[1500][-1].model_samples\n",
    "    \n",
    "with mp.Pool(n_threads) as pool:\n",
    "    with trange(1400, 500, -100) as t:\n",
    "        for dataset_size in t:\n",
    "            t.set_description(f\"Dataset {dataset_size}\")\n",
    "            start_model_samples = shrink_samples(final_model_samples, dataset_size)\n",
    "            assert start_model_samples.shape == (final_model_samples.shape[0], dataset_size)\n",
    "            params = params._replace(n_train_samples=dataset_size, train_ids=start_model_samples)\n",
    "            results[dataset_size] = run_evolution(train_data, valid_data, pool, params)\n",
    "            final_model_samples = results[dataset_size][-1].model_samples\n",
    "    print(f\"Saving results to {output_path}...\")\n",
    "    pickle.dump(results, open(output_path, 'wb'))\n",
    "    print(\"Done\")"
   ]
  },
  {
   "cell_type": "code",
   "execution_count": null,
   "metadata": {},
   "outputs": [],
   "source": []
  }
 ],
 "metadata": {
  "kernelspec": {
   "display_name": "Python 3",
   "language": "python",
   "name": "python3"
  },
  "language_info": {
   "codemirror_mode": {
    "name": "ipython",
    "version": 3
   },
   "file_extension": ".py",
   "mimetype": "text/x-python",
   "name": "python",
   "nbconvert_exporter": "python",
   "pygments_lexer": "ipython3",
   "version": "3.7.3"
  }
 },
 "nbformat": 4,
 "nbformat_minor": 2
}
