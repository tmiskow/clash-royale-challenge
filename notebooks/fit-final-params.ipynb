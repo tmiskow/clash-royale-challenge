{
 "cells": [
  {
   "cell_type": "code",
   "execution_count": 1,
   "metadata": {},
   "outputs": [],
   "source": [
    "import sys\n",
    "sys.path.append('../src')"
   ]
  },
  {
   "cell_type": "code",
   "execution_count": 2,
   "metadata": {},
   "outputs": [],
   "source": [
    "import pickle\n",
    "import multiprocessing as mp\n",
    "from pathlib import Path\n",
    "from datetime import datetime\n",
    "from typing import NamedTuple, List\n",
    "\n",
    "from tqdm import tqdm\n",
    "import click\n",
    "import numpy as np\n",
    "\n",
    "from genetic import GenerationResult, DataSet, EvolutionParams, run_evolution, fit_svr\n",
    "\n",
    "np.random.seed(420)"
   ]
  },
  {
   "cell_type": "code",
   "execution_count": 3,
   "metadata": {},
   "outputs": [],
   "source": [
    "search_params_dict = {\n",
    "    'kernel': ['rbf'],\n",
    "    'gamma': [1 / i for i in range(80, 130, 10)],\n",
    "    'C': [0.9, 1.0, 1.1],\n",
    "    'epsilon': [1e-3, 3e-3, 1e-2, 3e-2, 1e-1, 3e-1],\n",
    "    'shrinking': [True]\n",
    "}\n",
    "\n",
    "def find_best_model_samples(results):\n",
    "    model_scores = np.concatenate([result.model_scores for result in results])\n",
    "    model_samples = np.concatenate([result.model_samples.astype('int64') for result in results])\n",
    "    best_model_id = np.argmax(model_scores)\n",
    "    best_model_samples = model_samples[best_model_id]\n",
    "    return best_model_samples\n",
    "\n",
    "def prepare_submission(train_data, valid_data, results, path):\n",
    "    with open(path, 'w') as file:\n",
    "        with tqdm(sorted(results.keys())) as t:\n",
    "            for dataset_size in t:\n",
    "                dataset_results = results[dataset_size]\n",
    "                best_samples = find_best_model_samples(dataset_results)\n",
    "                best_model = fit_svr(\n",
    "                    train_data.X[best_samples],\n",
    "                    train_data.y[best_samples],\n",
    "                    valid_data.X,\n",
    "                    valid_data.y,\n",
    "                    n_iter=32,\n",
    "                    params_dict=search_params_dict\n",
    "                )\n",
    "                best_params = best_model.get_params()\n",
    "                epsilon, C, gamma = [best_params.get(key) for key in ['epsilon', 'C', 'gamma']]\n",
    "                print(f\"size: {dataset_size}, epsilon: {epsilon}, C: {C}, gamma: {gamma}\")\n",
    "                best_model_samples_string = \",\".join([str(sample) for sample in best_samples])\n",
    "                file.write(f\"{epsilon};{C};{gamma};{best_model_samples_string}\\n\")"
   ]
  },
  {
   "cell_type": "code",
   "execution_count": 4,
   "metadata": {},
   "outputs": [],
   "source": [
    "input_file = '../data/genetic-all-07-06-19-20-27-20.pkl'\n",
    "submission_path = datetime.now().strftime('../data/sumbission-%d-%m-%y-%H-%M-%S.txt')\n",
    "input_dir = Path('../data').resolve()\n",
    "train_X = np.load(input_dir / 'train_X.npy')\n",
    "train_y = np.load(input_dir / 'train_y.npy')\n",
    "valid_X = np.load(input_dir / 'valid_X.npy')\n",
    "valid_y = np.load(input_dir / 'valid_y.npy')\n",
    "train_data = DataSet(train_X, train_y, np.arange(len(train_X)))\n",
    "valid_data = DataSet(valid_X, valid_y, np.arange(len(valid_X)) * (-1))\n",
    "with open(input_file, 'rb') as file:\n",
    "    results = pickle.load(file)"
   ]
  },
  {
   "cell_type": "code",
   "execution_count": 5,
   "metadata": {},
   "outputs": [
    {
     "name": "stderr",
     "output_type": "stream",
     "text": [
      " 10%|█         | 1/10 [00:10<01:38, 10.95s/it]"
     ]
    },
    {
     "name": "stdout",
     "output_type": "stream",
     "text": [
      "size: 600, epsilon: 0.01, C: 1.0, gamma: 0.0125\n"
     ]
    },
    {
     "name": "stderr",
     "output_type": "stream",
     "text": [
      " 20%|██        | 2/10 [00:24<01:34, 11.79s/it]"
     ]
    },
    {
     "name": "stdout",
     "output_type": "stream",
     "text": [
      "size: 700, epsilon: 0.01, C: 1.1, gamma: 0.0125\n"
     ]
    },
    {
     "name": "stderr",
     "output_type": "stream",
     "text": [
      " 30%|███       | 3/10 [00:39<01:29, 12.82s/it]"
     ]
    },
    {
     "name": "stdout",
     "output_type": "stream",
     "text": [
      "size: 800, epsilon: 0.01, C: 1.1, gamma: 0.011111111111111112\n"
     ]
    },
    {
     "name": "stderr",
     "output_type": "stream",
     "text": [
      " 40%|████      | 4/10 [00:57<01:26, 14.37s/it]"
     ]
    },
    {
     "name": "stdout",
     "output_type": "stream",
     "text": [
      "size: 900, epsilon: 0.01, C: 1.1, gamma: 0.0125\n"
     ]
    },
    {
     "name": "stderr",
     "output_type": "stream",
     "text": [
      " 50%|█████     | 5/10 [01:19<01:22, 16.57s/it]"
     ]
    },
    {
     "name": "stdout",
     "output_type": "stream",
     "text": [
      "size: 1000, epsilon: 0.01, C: 1.0, gamma: 0.01\n"
     ]
    },
    {
     "name": "stderr",
     "output_type": "stream",
     "text": [
      " 60%|██████    | 6/10 [01:41<01:12, 18.17s/it]"
     ]
    },
    {
     "name": "stdout",
     "output_type": "stream",
     "text": [
      "size: 1100, epsilon: 0.01, C: 1.0, gamma: 0.008333333333333333\n"
     ]
    },
    {
     "name": "stderr",
     "output_type": "stream",
     "text": [
      " 70%|███████   | 7/10 [02:04<00:59, 19.75s/it]"
     ]
    },
    {
     "name": "stdout",
     "output_type": "stream",
     "text": [
      "size: 1200, epsilon: 0.01, C: 0.9, gamma: 0.0125\n"
     ]
    },
    {
     "name": "stderr",
     "output_type": "stream",
     "text": [
      " 80%|████████  | 8/10 [02:35<00:46, 23.12s/it]"
     ]
    },
    {
     "name": "stdout",
     "output_type": "stream",
     "text": [
      "size: 1300, epsilon: 0.03, C: 1.1, gamma: 0.0125\n"
     ]
    },
    {
     "name": "stderr",
     "output_type": "stream",
     "text": [
      " 90%|█████████ | 9/10 [03:11<00:26, 26.86s/it]"
     ]
    },
    {
     "name": "stdout",
     "output_type": "stream",
     "text": [
      "size: 1400, epsilon: 0.01, C: 1.1, gamma: 0.008333333333333333\n"
     ]
    },
    {
     "name": "stderr",
     "output_type": "stream",
     "text": [
      "100%|██████████| 10/10 [03:43<00:00, 28.33s/it]"
     ]
    },
    {
     "name": "stdout",
     "output_type": "stream",
     "text": [
      "size: 1500, epsilon: 0.03, C: 1.1, gamma: 0.01\n"
     ]
    },
    {
     "name": "stderr",
     "output_type": "stream",
     "text": [
      "\n"
     ]
    }
   ],
   "source": [
    "prepare_submission(train_data, valid_data, results, submission_path)"
   ]
  },
  {
   "cell_type": "code",
   "execution_count": null,
   "metadata": {},
   "outputs": [],
   "source": []
  }
 ],
 "metadata": {
  "kernelspec": {
   "display_name": "Python 3",
   "language": "python",
   "name": "python3"
  },
  "language_info": {
   "codemirror_mode": {
    "name": "ipython",
    "version": 3
   },
   "file_extension": ".py",
   "mimetype": "text/x-python",
   "name": "python",
   "nbconvert_exporter": "python",
   "pygments_lexer": "ipython3",
   "version": "3.7.1"
  }
 },
 "nbformat": 4,
 "nbformat_minor": 2
}
